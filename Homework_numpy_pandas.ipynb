{
 "cells": [
  {
   "cell_type": "markdown",
   "metadata": {},
   "source": [
    "<h1>Homework 2</h1>\n",
    "In this notebook there are the activities related to the second homework and, as with the first homework, feel free to use the web to find the solutions to any of these problems. Also, the bonus questions are not mandatory but, if you happen to have the time, try them out too!<br>\n",
    "\n"
   ]
  },
  {
   "cell_type": "markdown",
   "metadata": {},
   "source": [
    "<h1>numpy</h1>\n",
    "Exercise 1: show that now you can import libraries by importing pandas, numpy and matplotlib."
   ]
  },
  {
   "cell_type": "code",
   "execution_count": 1,
   "metadata": {},
   "outputs": [],
   "source": [
    "import numpy as np\n",
    "import pandas as pd\n",
    "import matplotlib as plt"
   ]
  },
  {
   "cell_type": "markdown",
   "metadata": {},
   "source": [
    "Exercise 2: Will the following code block work?  "
   ]
  },
  {
   "cell_type": "markdown",
   "metadata": {},
   "source": [
    "It will work, because 3,3 array and 3,1 array are compatible."
   ]
  },
  {
   "cell_type": "code",
   "execution_count": 2,
   "metadata": {},
   "outputs": [
    {
     "data": {
      "text/plain": [
       "array([[0.18039639, 0.44734631, 0.28334081],\n",
       "       [0.96701209, 0.44227038, 0.39053677],\n",
       "       [0.30942323, 0.89322933, 0.52405616]])"
      ]
     },
     "execution_count": 2,
     "metadata": {},
     "output_type": "execute_result"
    }
   ],
   "source": [
    "# This creates a 3x3 array of random numbers ranging from 0 to 1\n",
    "array1 = np.random.random((3, 3))\n",
    "array2 = np.random.random((3, 1))\n",
    "\n",
    "np.add(array1,array2)\n",
    "\n"
   ]
  },
  {
   "cell_type": "markdown",
   "metadata": {},
   "source": [
    "Exercise 3: What about now?"
   ]
  },
  {
   "cell_type": "markdown",
   "metadata": {},
   "source": [
    "This time it won't work because 3,3 array and 3,2 array aren't compatible."
   ]
  },
  {
   "cell_type": "code",
   "execution_count": 8,
   "metadata": {},
   "outputs": [
    {
     "ename": "ValueError",
     "evalue": "operands could not be broadcast together with shapes (3,3) (3,2) ",
     "output_type": "error",
     "traceback": [
      "\u001b[1;31m---------------------------------------------------------------------------\u001b[0m",
      "\u001b[1;31mValueError\u001b[0m                                Traceback (most recent call last)",
      "\u001b[1;32m<ipython-input-8-e846a1dd7e14>\u001b[0m in \u001b[0;36m<module>\u001b[1;34m\u001b[0m\n\u001b[0;32m      3\u001b[0m \u001b[0marray2\u001b[0m \u001b[1;33m=\u001b[0m \u001b[0mnp\u001b[0m\u001b[1;33m.\u001b[0m\u001b[0mrandom\u001b[0m\u001b[1;33m.\u001b[0m\u001b[0mrandom\u001b[0m\u001b[1;33m(\u001b[0m\u001b[1;33m(\u001b[0m\u001b[1;36m3\u001b[0m\u001b[1;33m,\u001b[0m \u001b[1;36m2\u001b[0m\u001b[1;33m)\u001b[0m\u001b[1;33m)\u001b[0m\u001b[1;33m\u001b[0m\u001b[1;33m\u001b[0m\u001b[0m\n\u001b[0;32m      4\u001b[0m \u001b[1;33m\u001b[0m\u001b[0m\n\u001b[1;32m----> 5\u001b[1;33m \u001b[0mnp\u001b[0m\u001b[1;33m.\u001b[0m\u001b[0madd\u001b[0m\u001b[1;33m(\u001b[0m\u001b[0marray1\u001b[0m\u001b[1;33m,\u001b[0m\u001b[0marray2\u001b[0m\u001b[1;33m)\u001b[0m\u001b[1;33m\u001b[0m\u001b[1;33m\u001b[0m\u001b[0m\n\u001b[0m",
      "\u001b[1;31mValueError\u001b[0m: operands could not be broadcast together with shapes (3,3) (3,2) "
     ]
    }
   ],
   "source": [
    "# This creates a 3x3 array of random numbers ranging from 0 to 1\n",
    "array3 = np.random.random((3, 3))\n",
    "array4 = np.random.random((3, 2))\n",
    "\n",
    "np.add(array3,array4)"
   ]
  },
  {
   "cell_type": "markdown",
   "metadata": {},
   "source": [
    "Exercise 4: by inspecting the arrays 1 to 4 can you figure out why one operation worked and another one didn't? (hint: check their values and shape)"
   ]
  },
  {
   "cell_type": "markdown",
   "metadata": {},
   "source": [
    "It worked in first block of code because 3,3 array and 3,1 array are compatible.\n",
    "Second time it didn't because 3,3 array and 3,2 array aren't compatible."
   ]
  },
  {
   "cell_type": "markdown",
   "metadata": {},
   "source": [
    "Exercise 5: Using the function to create an array of random numbers [np.random.random](https://numpy.org/doc/stable/reference/random/generated/numpy.random.random.html) how can you modify the code (as in the cells above) so that the numbers will vary between 0 and 100 instead of 0 and 1? And how can you modify the shape of the function?"
   ]
  },
  {
   "cell_type": "code",
   "execution_count": 20,
   "metadata": {},
   "outputs": [],
   "source": [
    "def randomise(start, end, rows, columns):\n",
    "    return np.random.randint(start, end, size=(rows, columns))\n",
    "random_matrix = randomise(0, 100, 4,9)"
   ]
  },
  {
   "cell_type": "markdown",
   "metadata": {},
   "source": [
    "Exercise 6: Using the array defined on the exercise above, use [np.where](https://numpy.org/doc/stable/reference/generated/numpy.where.html) to find the positions the values that are larger than 50 (or feel free to pick any other number)."
   ]
  },
  {
   "cell_type": "code",
   "execution_count": 25,
   "metadata": {},
   "outputs": [
    {
     "data": {
      "text/plain": [
       "(array([0, 0, 0, 1, 2, 2, 2, 2, 2, 3, 3], dtype=int64),\n",
       " array([0, 1, 4, 7, 0, 1, 2, 3, 5, 5, 6], dtype=int64))"
      ]
     },
     "execution_count": 25,
     "metadata": {},
     "output_type": "execute_result"
    }
   ],
   "source": [
    "np.where(random_matrix > 50)"
   ]
  },
  {
   "cell_type": "markdown",
   "metadata": {},
   "source": [
    "<h1>Pandas </h1>\n",
    "There are two datasets on available to this work one is the pokemon dataset we explored in the lectured and the other one is the same dataframe but, for the sake of a nice story, let us say it was sabotaged by team rocket.\n",
    "\n",
    "Exercise 1: open both dataframes supplied using [pd.read_csv](https://pandas.pydata.org/docs/reference/api/pandas.read_csv.html) (and don't forget to assign them to different objects)."
   ]
  },
  {
   "cell_type": "code",
   "execution_count": 27,
   "metadata": {},
   "outputs": [
    {
     "name": "stdout",
     "output_type": "stream",
     "text": [
      "       #                   Name   Type 1  Type 2  Total    HP  Attack  \\\n",
      "0      1              Bulbasaur    Grass  Poison    318  45.0      49   \n",
      "1      2                Ivysaur    Grass  Poison    405  60.0      62   \n",
      "2      3               Venusaur    Grass  Poison    525  80.0      82   \n",
      "3      3  VenusaurMega Venusaur    Grass  Poison    625  80.0     100   \n",
      "4      4             Charmander     Fire     NaN    309  39.0      52   \n",
      "..   ...                    ...      ...     ...    ...   ...     ...   \n",
      "795  719                Diancie     Rock   Fairy    600  50.0     100   \n",
      "796  719    DiancieMega Diancie     Rock   Fairy    700  50.0     160   \n",
      "797  720    HoopaHoopa Confined  Psychic   Ghost    600  80.0     110   \n",
      "798  720     HoopaHoopa Unbound  Psychic    Dark    680  80.0     160   \n",
      "799  721              Volcanion     Fire   Water    600  80.0     110   \n",
      "\n",
      "     Defense  Sp. Atk  Sp. Def  Speed  Generation  Legendary  \n",
      "0       49.0       65     65.0   45.0           1      False  \n",
      "1       63.0       80     80.0   60.0           1      False  \n",
      "2       83.0      100    100.0   80.0           1      False  \n",
      "3      123.0      122    120.0   80.0           1      False  \n",
      "4       43.0       60     50.0   65.0           1      False  \n",
      "..       ...      ...      ...    ...         ...        ...  \n",
      "795    150.0      100    150.0   50.0           6       True  \n",
      "796    110.0      160    110.0  110.0           6       True  \n",
      "797     60.0      150    130.0   70.0           6       True  \n",
      "798     60.0      170    130.0   80.0           6       True  \n",
      "799    120.0      130     90.0   70.0           6       True  \n",
      "\n",
      "[800 rows x 13 columns]\n"
     ]
    }
   ],
   "source": [
    "pokemon_df = pd.read_csv(\"Pokemon.csv\")\n",
    "pokemon_sabotage_df = pd.read_csv(\"Pokemon_sabotage.csv\")"
   ]
  },
  {
   "cell_type": "markdown",
   "metadata": {},
   "source": [
    "Exercise 2: Using [pd.isna](https://pandas.pydata.org/docs/reference/api/pandas.DataFrame.isna.html) check how many missing numbers are in each dataframe."
   ]
  },
  {
   "cell_type": "code",
   "execution_count": 32,
   "metadata": {},
   "outputs": [
    {
     "name": "stdout",
     "output_type": "stream",
     "text": [
      "#               0\n",
      "Name            0\n",
      "Type 1          0\n",
      "Type 2        386\n",
      "Total           0\n",
      "HP              0\n",
      "Attack          0\n",
      "Defense         0\n",
      "Sp. Atk         0\n",
      "Sp. Def         0\n",
      "Speed           0\n",
      "Generation      0\n",
      "Legendary       0\n",
      "dtype: int64\n",
      "386\n",
      "#               0\n",
      "Name            2\n",
      "Type 1          1\n",
      "Type 2        387\n",
      "Total           0\n",
      "HP              3\n",
      "Attack          0\n",
      "Defense         1\n",
      "Sp. Atk         0\n",
      "Sp. Def         1\n",
      "Speed           4\n",
      "Generation      0\n",
      "Legendary       0\n",
      "dtype: int64\n",
      "399\n"
     ]
    }
   ],
   "source": [
    "pokemon_table = pokemon_df.isna().sum()\n",
    "pokemon_total = pokemon_df.isna().sum().sum()\n",
    "sabotage_table = pokemon_sabotage_df.isna().sum()\n",
    "sabotage_total = pokemon_sabotage_df.isna().sum().sum()\n",
    "print(pokemon_table)\n",
    "print(pokemon_total)\n",
    "print(sabotage_table)\n",
    "print(sabotage_total)"
   ]
  },
  {
   "cell_type": "markdown",
   "metadata": {},
   "source": [
    "Exercise 3: Two of the main ways to deal with missing data is [pd.dropna](https://pandas.pydata.org/docs/reference/api/pandas.DataFrame.dropna.html) and [pd.fillna](https://pandas.pydata.org/docs/reference/api/pandas.DataFrame.fillna.html). How are these methods different from each other in how they deal with the missing data? Which, if any, would you use on the dataset? Why?"
   ]
  },
  {
   "cell_type": "code",
   "execution_count": null,
   "metadata": {},
   "outputs": [],
   "source": [
    "#pd.dropna() will delete empty cells, where is pd.fillna() will fill them with data"
   ]
  },
  {
   "cell_type": "markdown",
   "metadata": {},
   "source": [
    "From now on we will only be working with the main (non sabotaged dataframe).<br>\n",
    "\n",
    "Exercise 4: to free up memory delete the sabotaged dataframe. Bonus: before deleting find a way to check how much space in memory the dataframes occupy. [hint](https://stackoverflow.com/questions/449560/how-do-i-determine-the-size-of-an-object-in-python)"
   ]
  },
  {
   "cell_type": "code",
   "execution_count": 33,
   "metadata": {},
   "outputs": [
    {
     "data": {
      "text/plain": [
       "199279"
      ]
     },
     "execution_count": 33,
     "metadata": {},
     "output_type": "execute_result"
    }
   ],
   "source": [
    "import sys\n",
    "sys.getsizeof(pokemon_sabotage_df)\n",
    "del pokemon_sabotage_df"
   ]
  },
  {
   "cell_type": "markdown",
   "metadata": {},
   "source": [
    "Exercise 5: Create a new column that contains the sum of the Attack, speed and defense stats."
   ]
  },
  {
   "cell_type": "code",
   "execution_count": 37,
   "metadata": {},
   "outputs": [
    {
     "data": {
      "text/plain": [
       "0      143\n",
       "1      185\n",
       "2      245\n",
       "3      303\n",
       "4      160\n",
       "      ... \n",
       "795    300\n",
       "796    380\n",
       "797    240\n",
       "798    300\n",
       "799    300\n",
       "Name: ASD, Length: 800, dtype: int64"
      ]
     },
     "execution_count": 37,
     "metadata": {},
     "output_type": "execute_result"
    }
   ],
   "source": [
    "pokemon_df[\"ASD\"] = pokemon_df[\"Attack\"] + pokemon_df[\"Speed\"] + pokemon_df[\"Defense\"]\n",
    "pokemon_df[\"ASD\"]"
   ]
  },
  {
   "cell_type": "markdown",
   "metadata": {},
   "source": [
    "Exercise 6: Find out the mean value of the attack, speed, defense columns and the new column that was created above."
   ]
  },
  {
   "cell_type": "code",
   "execution_count": 39,
   "metadata": {},
   "outputs": [
    {
     "name": "stdout",
     "output_type": "stream",
     "text": [
      "79.00125\n",
      "68.2775\n",
      "73.8425\n",
      "221.12125\n"
     ]
    }
   ],
   "source": [
    "mean_attack = pokemon_df[\"Attack\"].mean()\n",
    "mean_speed = pokemon_df[\"Speed\"].mean()\n",
    "mean_defense = pokemon_df[\"Defense\"].mean()\n",
    "mean_asd = pokemon_df[\"ASD\"].mean()\n",
    "\n",
    "\n",
    "print(mean_attack)\n",
    "print(mean_speed)\n",
    "print(mean_defense)\n",
    "print(mean_asd)"
   ]
  },
  {
   "cell_type": "markdown",
   "metadata": {},
   "source": [
    "Exercise 7: Find out how many pokemon have above average stats in the attack, speed, defense and the new column. Bonus: Do the pokemon with above average stats have a preffered type?"
   ]
  },
  {
   "cell_type": "code",
   "execution_count": 55,
   "metadata": {},
   "outputs": [
    {
     "name": "stdout",
     "output_type": "stream",
     "text": [
      "147\n",
      "100\n"
     ]
    }
   ],
   "source": [
    "new_df = pokemon_df[(pokemon_df[\"Attack\"]> mean_attack)&(pokemon_df[\"Speed\"]> mean_speed) & (pokemon_df[\"Defense\"]> mean_defense) & (pokemon_df[\"ASD\"]>mean_asd) ]\n",
    "\n",
    "\n",
    "\n",
    "print(new_df.value_counts(\"Type 1\").sum()) #Type 1 is preffered type\n",
    "print(new_df.value_counts(\"Type 2\").sum())"
   ]
  },
  {
   "cell_type": "markdown",
   "metadata": {},
   "source": [
    "Super bonus: There are many platforms out there that contain different tools to boost your learning. Then for the super bonus create an account on [kaggle](https://www.kaggle.com/) and complete the courses\n",
    "[intro to programming](https://www.kaggle.com/learn/intro-to-programming) and [intro to python](https://www.kaggle.com/learn/python) courses. All kaggle courses are free of charge and offer a [certificate](https://www.kaggle.com/learn-course-certificates) !"
   ]
  },
  {
   "cell_type": "code",
   "execution_count": null,
   "metadata": {},
   "outputs": [],
   "source": []
  }
 ],
 "metadata": {
  "kernelspec": {
   "display_name": "Python 3.9.12 ('base')",
   "language": "python",
   "name": "python3"
  },
  "language_info": {
   "codemirror_mode": {
    "name": "ipython",
    "version": 3
   },
   "file_extension": ".py",
   "mimetype": "text/x-python",
   "name": "python",
   "nbconvert_exporter": "python",
   "pygments_lexer": "ipython3",
   "version": "3.9.12"
  },
  "vscode": {
   "interpreter": {
    "hash": "cf4fd4f7b6b12fcff81e5159d01e2637c8636079944ea6467744dea0228a7fed"
   }
  }
 },
 "nbformat": 4,
 "nbformat_minor": 4
}
